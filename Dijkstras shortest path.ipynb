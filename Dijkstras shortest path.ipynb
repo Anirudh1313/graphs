{
 "cells": [
  {
   "cell_type": "code",
   "execution_count": 1,
   "metadata": {},
   "outputs": [
    {
     "data": {
      "text/plain": [
       "{0: [<__main__.vertex at 0x10c6dbac8>,\n",
       "  <__main__.vertex at 0x10c6dba20>,\n",
       "  <__main__.vertex at 0x10c6dbb00>],\n",
       " 1: [<__main__.vertex at 0x10c6dbd68>],\n",
       " 2: [<__main__.vertex at 0x10c6dbbe0>, <__main__.vertex at 0x10c6dbc18>],\n",
       " 3: [<__main__.vertex at 0x10c6dbc50>, <__main__.vertex at 0x10c6dbc88>],\n",
       " 4: [<__main__.vertex at 0x10c6dbcc0>],\n",
       " 5: [<__main__.vertex at 0x10c6dbcf8>],\n",
       " 6: [<__main__.vertex at 0x10c6dbd30>],\n",
       " 7: []}"
      ]
     },
     "execution_count": 1,
     "metadata": {},
     "output_type": "execute_result"
    }
   ],
   "source": [
    "class vertex(object):\n",
    "    def __init__(self, index, weight):\n",
    "        self.index = index\n",
    "        self.weight = weight\n",
    "\n",
    "graph = {}\n",
    "for i in range(8):\n",
    "    graph[i] = []\n",
    "    \n",
    "#undirected_graph\n",
    "def add_edge(graph, parent, child, weight):\n",
    "    graph[parent].append(vertex(child, weight))\n",
    "    graph[child].append(vertex(parent, weight))\n",
    "\n",
    "#directed_graph\n",
    "def add_edge_directed(graph, parent, child, weight):\n",
    "    graph[parent].append(vertex(child, weight))\n",
    "\n",
    "add_edge_directed(graph, 0, 1, 3)\n",
    "add_edge_directed(graph, 0, 2, 2)\n",
    "add_edge_directed(graph, 0, 3, 4)\n",
    "add_edge_directed(graph, 2, 3, 1)\n",
    "add_edge_directed(graph, 2, 5, 3)\n",
    "add_edge_directed(graph, 3, 4, 1)\n",
    "add_edge_directed(graph, 3, 6, 2)\n",
    "add_edge_directed(graph, 4, 6, 3)\n",
    "add_edge_directed(graph, 5, 6, 4)\n",
    "add_edge_directed(graph, 6, 7, 1)\n",
    "add_edge_directed(graph, 1, 7, 2)\n",
    "\n",
    "graph"
   ]
  },
  {
   "cell_type": "code",
   "execution_count": 8,
   "metadata": {},
   "outputs": [
    {
     "data": {
      "text/plain": [
       "(5, deque([0, 2, 3, 6]))"
      ]
     },
     "execution_count": 8,
     "metadata": {},
     "output_type": "execute_result"
    }
   ],
   "source": [
    "import heapq\n",
    "from collections import deque\n",
    "def dijkstras(graph, start, end):\n",
    "    '''\n",
    "    finds the shortest path from start vertex to end vertex in O( (V+E)*lg(V) ) \n",
    "    using a priority queue and using BFS as base algorithm\n",
    "    input args:\n",
    "    graph = Adjacency list to hold all the vertices and conncections in graph\n",
    "    start = vertex.ind\n",
    "    end = vertex.ind\n",
    "    '''\n",
    "    \n",
    "    visited = set()\n",
    "    dist = [None]*len(graph)\n",
    "    path = [None]*len(graph)\n",
    "    path[start] = -1\n",
    "    \n",
    "    dist[start] = 0\n",
    "    que = [(0,start)]\n",
    "    heapq.heapify(que)\n",
    "    \n",
    "    while len(visited) != len(graph):\n",
    "        \n",
    "        top = heapq.heappop(que)\n",
    "        curr = top[1]\n",
    "        visited.add(curr)\n",
    "        \n",
    "        if curr is end:\n",
    "            return (dist[end], path)\n",
    "        \n",
    "        for node in graph[curr]:\n",
    "            cid = node.index\n",
    "            if node not in visited:\n",
    "                if dist[cid] == None or dist[cid] > dist[curr]+node.weight:\n",
    "                    \n",
    "                    dist[cid] = dist[curr]+node.weight\n",
    "                    path[cid] = curr\n",
    "                    heapq.heappush(que, (dist[cid],cid))\n",
    "                    \n",
    "                \n",
    "\n",
    "def find_shortest_path(graph, start, end):\n",
    "    '''\n",
    "    finding shortest path from start to end vertex\n",
    "    \n",
    "    args:\n",
    "    graph = adjacency list map<int, list>\n",
    "    start = start node index\n",
    "    end = end node index\n",
    "    '''\n",
    "    dist, paths = dijkstras(graph, start, end)\n",
    "\n",
    "    k = paths[end]\n",
    "    path = deque()\n",
    "    path.append(end)\n",
    "    \n",
    "    while k != -1:\n",
    "        path.appendleft(k)\n",
    "        k = paths[k]\n",
    "        \n",
    "    return dist,path\n",
    "\n",
    "find_shortest_path(graph, 0, 6)"
   ]
  },
  {
   "cell_type": "code",
   "execution_count": null,
   "metadata": {},
   "outputs": [],
   "source": []
  }
 ],
 "metadata": {
  "kernelspec": {
   "display_name": "Python 3",
   "language": "python",
   "name": "python3"
  },
  "language_info": {
   "codemirror_mode": {
    "name": "ipython",
    "version": 3
   },
   "file_extension": ".py",
   "mimetype": "text/x-python",
   "name": "python",
   "nbconvert_exporter": "python",
   "pygments_lexer": "ipython3",
   "version": "3.5.5"
  }
 },
 "nbformat": 4,
 "nbformat_minor": 2
}
